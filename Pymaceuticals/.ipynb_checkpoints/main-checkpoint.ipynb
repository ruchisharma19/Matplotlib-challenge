{
 "cells": [
  {
   "cell_type": "markdown",
   "metadata": {},
   "source": [
    "# Observations and Insights \n",
    "\n",
    "1) Ramicane was the most effective drug regimen among all in this testing.\n",
    "2) Capomulin was obesrved second best dug regimen in this study which can be seen in box and whisk diagram below.\n",
    "3) Weight of the mouse is directly proportional to tumor volume that means the more heavy mouse is the more tumour volume it has."
   ]
  },
  {
   "cell_type": "code",
   "execution_count": null,
   "metadata": {},
   "outputs": [],
   "source": [
    "# Dependencies and Setup\n",
    "import matplotlib.pyplot as plt\n",
    "import pandas as pd\n",
    "import scipy.stats as st\n",
    "import numpy as np\n",
    "\n",
    "from scipy.stats import linregress\n",
    "\n",
    "# Study data files\n",
    "mouse_metadata_path = \"data/Mouse_metadata.csv\"\n",
    "study_results_path = \"data/Study_results.csv\"\n",
    "\n",
    "# Read the mouse data and the study results\n",
    "mouse_metadata = pd.read_csv(mouse_metadata_path)\n",
    "study_results = pd.read_csv(study_results_path)\n",
    "\n",
    "\n",
    "\n"
   ]
  },
  {
   "cell_type": "code",
   "execution_count": null,
   "metadata": {},
   "outputs": [],
   "source": [
    "pd.set_option('display.max_rows', None)\n",
    "mouse_metadata.groupby([\"Drug Regimen\"]).count()"
   ]
  },
  {
   "cell_type": "code",
   "execution_count": null,
   "metadata": {},
   "outputs": [],
   "source": [
    "# Combine the data into a single dataset\n",
    "\n",
    "mouse_study_results = pd.merge(mouse_metadata, study_results, how=\"inner\", on=[\"Mouse ID\"] )\n",
    "\n",
    "\n",
    "# Display the data table for preview\n",
    "mouse_study_results.head()\n"
   ]
  },
  {
   "cell_type": "code",
   "execution_count": null,
   "metadata": {},
   "outputs": [],
   "source": [
    "# Checking the number of mice.\n",
    "mice_count = len(mouse_study_results[\"Mouse ID\"].unique())\n",
    "mice_count\n"
   ]
  },
  {
   "cell_type": "code",
   "execution_count": null,
   "metadata": {},
   "outputs": [],
   "source": [
    "# Getting the duplicate mice by ID number that shows up for Mouse ID and Timepoint. \n",
    "\n",
    "mice_group = mouse_study_results.groupby([\"Mouse ID\", \"Timepoint\"])\n",
    "\n",
    "dup_mice_id = mice_group.filter(lambda x:x['Sex'].count() > 1)\n",
    "\n",
    "dup_mice_id = (dup_mice_id[\"Mouse ID\"].unique()).tolist()\n",
    "dup_mice_id"
   ]
  },
  {
   "cell_type": "code",
   "execution_count": null,
   "metadata": {},
   "outputs": [],
   "source": [
    "# Optional: Get all the data for the duplicate mouse ID. \n",
    "grouped_mouse_study_results = mouse_study_results.groupby([\"Mouse ID\"])\n",
    "duplicate_id_df = grouped_mouse_study_results.filter(lambda x:x[\"Sex\"].count() > 1)\n",
    "\n",
    "# duplicate_id_df\n"
   ]
  },
  {
   "cell_type": "code",
   "execution_count": null,
   "metadata": {},
   "outputs": [],
   "source": [
    "# Create a clean DataFrame by dropping the duplicate mouse by its ID.\n",
    "\n",
    "indexed_mouse_study_results_df =  mouse_study_results.set_index(\"Mouse ID\")\n",
    "cleaned_mouse_study_results_df = indexed_mouse_study_results_df.drop(dup_mice_id,axis=0) # Passed the list of duplicate ID's to the drop method\n",
    "\n",
    "cleaned_results_df = cleaned_mouse_study_results_df.reset_index()\n"
   ]
  },
  {
   "cell_type": "code",
   "execution_count": null,
   "metadata": {},
   "outputs": [],
   "source": [
    "# Checking the number of mice in the clean DataFrame.\n",
    "len(cleaned_results_df[\"Mouse ID\"].unique())"
   ]
  },
  {
   "cell_type": "markdown",
   "metadata": {},
   "source": [
    "## Summary Statistics"
   ]
  },
  {
   "cell_type": "markdown",
   "metadata": {},
   "source": [
    "* Generate a summary statistics table of mean, median, variance, standard deviation, and SEM of the tumor volume for each regimen\n"
   ]
  },
  {
   "cell_type": "code",
   "execution_count": null,
   "metadata": {},
   "outputs": [],
   "source": [
    "cleaned_results_df[\"Tumor Volume (mm3)\"].describe()"
   ]
  },
  {
   "cell_type": "code",
   "execution_count": null,
   "metadata": {
    "scrolled": true
   },
   "outputs": [],
   "source": [
    "\n",
    "# mean_tumor_vol = mouse_study_results[\"Tumor Volume (mm3)\"].mean()\n",
    "# mean_tumor_vol\n",
    "\n",
    "# Use groupby and summary statistical methods to calculate the following properties of each drug regimen: \n",
    "\n",
    "grouped_mouse_study_results_df = cleaned_results_df.groupby([\"Drug Regimen\"]) #grouping data on Drug Regimen\n",
    "\n",
    "# grouped_mouse_study_results_df.count()\n",
    "# mean, median, variance, standard deviation, and SEM of the tumor volume. \n",
    "\n",
    "tumorvol_by_drug_regimen_mean = grouped_mouse_study_results_df[\"Tumor Volume (mm3)\"].mean()\n",
    "tumorvol_by_drug_regimen_median = grouped_mouse_study_results_df[\"Tumor Volume (mm3)\"].median()\n",
    "tumorvol_by_drug_regimen_var = grouped_mouse_study_results_df[\"Tumor Volume (mm3)\"].var()\n",
    "tumorvol_by_drug_regimen_std = grouped_mouse_study_results_df[\"Tumor Volume (mm3)\"].std()\n",
    "tumorvol_by_drug_regimen_sem = grouped_mouse_study_results_df[\"Tumor Volume (mm3)\"].sem()\n",
    "# mousecnt_by_drug_regimen =  grouped_mouse_study_results_df[\"Mouse ID\"].count()\n",
    "\n",
    "\n",
    "# Assemble the resulting series into a single summary dataframe.\n",
    "\n",
    "summary_by_regimen_df = pd.DataFrame({ \"Mean\" : tumorvol_by_drug_regimen_mean ,\n",
    "                                      \"Median\" : tumorvol_by_drug_regimen_median ,\n",
    "                                       \"Variance\" : tumorvol_by_drug_regimen_var ,\n",
    "                                       \"Standard Deviation\" : tumorvol_by_drug_regimen_std ,\n",
    "                                        \"SEM\" : tumorvol_by_drug_regimen_sem  \n",
    "#                                         \"Mouse Count\" : mousecnt_by_drug_regimen\n",
    "                                     })\n",
    "summary_by_regimen_df"
   ]
  },
  {
   "cell_type": "markdown",
   "metadata": {},
   "source": [
    " * Generate a summary statistics table of mean, median, variance, standard deviation, and SEM of the tumor volume for each regimen"
   ]
  },
  {
   "cell_type": "code",
   "execution_count": null,
   "metadata": {},
   "outputs": [],
   "source": [
    "# Using the aggregation method, produce the same summary statistics in a single line\n",
    "summary_by_regimen_df_ = grouped_mouse_study_results_df[\"Tumor Volume (mm3)\"].describe()\n",
    "summary_by_regimen_df_"
   ]
  },
  {
   "cell_type": "markdown",
   "metadata": {},
   "source": [
    "## Bar and Pie Charts"
   ]
  },
  {
   "cell_type": "code",
   "execution_count": null,
   "metadata": {
    "scrolled": true
   },
   "outputs": [],
   "source": [
    "# Generate a bar plot showing the total number of timepoints for all mice tested for each drug regimen using Pandas.\n",
    "# pd.set_option('display.max_rows', None)\n",
    "# cleaned_results_df.rename(columns = {\"Mouse ID\" : \"Mouse_ID\"}).groupby([\"Drug Regimen\"]).Mouse_ID.nunique().plot.bar()\n",
    "results_plot_df = cleaned_results_df.rename(columns = {\"Mouse ID\" : \"Mouse_ID\"}).groupby([\"Timepoint\"]).Mouse_ID.nunique()\n",
    "results_plot_df.plot.bar()\n",
    "# cleaned_results_df.groupby([\"Drug Regimen\"]).Timepoint.nunique().plot.bar()\n",
    "# mouse_study_results.groupby([\"Timepoint\",\"Drug Regimen\"]).count()\n",
    "# mouse_study_results.groupby([\"Drug Regimen\",\"Timepoint\"]).Timepoint.count().plot.bar()\n",
    "# cleaned_results_df.groupby([\"Drug Regimen\"]).Timepoint.count().plot.bar()\n",
    "# mouse_study_results.groupby([\"Timepoint\"]).Timepoint.count().plot.bar()\n",
    "# mouse_study_results.groupby([\"Mouse ID\",\"Drug Regimen\"]).Timepoint.count()"
   ]
  },
  {
   "cell_type": "code",
   "execution_count": null,
   "metadata": {},
   "outputs": [],
   "source": [
    "results_plot_df.reset_index()"
   ]
  },
  {
   "cell_type": "code",
   "execution_count": null,
   "metadata": {},
   "outputs": [],
   "source": [
    "# Generate a bar plot showing the total number of timepoints for all mice tested for each drug regimen using pyplot.\n",
    "x=results_plot_df.reset_index()\n",
    "x_axis = x[\"Timepoint\"]\n",
    "y_axis = x[\"Mouse_ID\"]\n",
    "plt.bar(x_axis, y_axis, color='r', alpha=0.5, align=\"center\")"
   ]
  },
  {
   "cell_type": "code",
   "execution_count": null,
   "metadata": {},
   "outputs": [],
   "source": [
    "# Generate a pie plot showing the distribution of female versus male mice using Pandas\n",
    "cleaned_results_df.groupby([\"Sex\"]).Timepoint.count().plot.pie()\n",
    "s = cleaned_results_df.groupby([\"Sex\"]).Timepoint.count()"
   ]
  },
  {
   "cell_type": "code",
   "execution_count": null,
   "metadata": {},
   "outputs": [],
   "source": [
    "# Generate a pie plot showing the distribution of female versus male mice using pyplot\n",
    "sex = [\"female\", \"Male\"]\n",
    "s = cleaned_results_df.groupby([\"Sex\"]).Timepoint.count()\n",
    "plt.pie(s, labels = sex, autopct=\"%1.1f%%\")        \n"
   ]
  },
  {
   "cell_type": "markdown",
   "metadata": {},
   "source": [
    "## Quartiles, Outliers and Boxplots"
   ]
  },
  {
   "cell_type": "code",
   "execution_count": null,
   "metadata": {},
   "outputs": [],
   "source": [
    "# Calculate the final tumor volume of each mouse across four of the treatment regimens:  \n",
    "# Capomulin, Ramicane, Infubinol, and Ceftamin\n",
    "\n",
    "# Start by getting the last (greatest) timepoint for each mouse\n",
    "\n",
    "last_record_df = cleaned_results_df.drop_duplicates(subset=[\"Mouse ID\"],keep='last')\n",
    "\n",
    "# last_timepoint_df\n",
    "last_timepoint_df = last_record_df[[\"Mouse ID\",\"Timepoint\",\"Tumor Volume (mm3)\"]].rename(columns = {\"Timepoint\":\"Last Timepoint\",\"Tumor Volume (mm3)\":\"Final Tumor Volume (mm3)\"})\n",
    "# last_timepoint_df\n",
    "\n",
    "# Merge this group df with the original dataframe to get the tumor volume at the last timepoint\n",
    "mouse_study_results_lasttp = pd.merge(cleaned_results_df, last_timepoint_df, how=\"inner\", on=[\"Mouse ID\"] )\n",
    "last_timepoint_result_df = mouse_study_results_lasttp[[\"Mouse ID\",\"Drug Regimen\",\"Last Timepoint\",\"Final Tumor Volume (mm3)\"]].drop_duplicates().reset_index()\n",
    "last_timepoint_result_df\n"
   ]
  },
  {
   "cell_type": "code",
   "execution_count": null,
   "metadata": {},
   "outputs": [],
   "source": [
    "t = last_timepoint_result_df.groupby([\"Drug Regimen\"])\n",
    "Q1 = t[\"Final Tumor Volume (mm3)\"].quantile(.25)\n",
    "Q3 = t[\"Final Tumor Volume (mm3)\"].quantile(.75)\n",
    "IQR = Q3 - Q1\n",
    "\n",
    "lower_bound = Q1 - (1.5*IQR)\n",
    "upper_bound = Q3 - (1.5*IQR)\n",
    "\n",
    "tumor_vol_summ_quat = pd.DataFrame({ \"Quantile 1\" : Q1 ,\n",
    "                                     \"Quantile 3\" : Q3 ,\n",
    "                                     \"IQR\" : IQR ,\n",
    "                                     \"Lower Bound\" :  lower_bound ,\n",
    "                                    \"Upper Bound\" : upper_bound\n",
    "                                   })\n",
    "\n",
    "tumor_vol_summ_quat"
   ]
  },
  {
   "cell_type": "code",
   "execution_count": null,
   "metadata": {},
   "outputs": [],
   "source": [
    "# Put treatments into a list for for loop (and later for plot labels)\n",
    "regimen_list = last_timepoint_result_df[\"Drug Regimen\"].unique().tolist()\n",
    "regimen_list\n"
   ]
  },
  {
   "cell_type": "code",
   "execution_count": null,
   "metadata": {
    "scrolled": false
   },
   "outputs": [],
   "source": [
    "\n",
    "\n",
    "# Create empty list to fill with tumor vol data (for plotting)\n",
    "# Generate a box plot of the final tumor volume of each mouse across four regimens of interest\n",
    "\n",
    "final_tumor_list_cap = []\n",
    "final_tumor_list_ram = []\n",
    "final_tumor_list_inf = []\n",
    "final_tumor_list_cef = []\n",
    "\n",
    "drug_df_cap = last_timepoint_result_df.loc[last_timepoint_result_df[\"Drug Regimen\"]==\"Capomulin\" ,:]\n",
    "drug_df_ram = last_timepoint_result_df.loc[last_timepoint_result_df[\"Drug Regimen\"]==\"Ramicane\" ,:]\n",
    "drug_df_inf = last_timepoint_result_df.loc[last_timepoint_result_df[\"Drug Regimen\"]==\"Infubinol\" ,:]\n",
    "drug_df_cef = last_timepoint_result_df.loc[last_timepoint_result_df[\"Drug Regimen\"]==\"Ceftamin\" ,:]\n",
    "\n",
    "final_tumor_list_cap.append(drug_df_cap[\"Final Tumor Volume (mm3)\"])\n",
    "final_tumor_list_ram.append(drug_df_ram[\"Final Tumor Volume (mm3)\"])\n",
    "final_tumor_list_inf.append(drug_df_inf[\"Final Tumor Volume (mm3)\"])\n",
    "final_tumor_list_cef.append(drug_df_cef[\"Final Tumor Volume (mm3)\"])\n",
    "\n",
    "fig, ax = plt.subplots(2,2)\n",
    "\n",
    "ax[0,0].set_title('Final Tumor Volume (mm3) for Capomulin')\n",
    "ax[0,0].set_ylabel('Final Tumor Volume (mm3)')\n",
    "ax[0,0].boxplot(final_tumor_list_cap)\n",
    "\n",
    "ax[0,1].set_title('Final Tumor Volume (mm3) for Ramicane')\n",
    "ax[0,1].set_ylabel('Final Tumor Volume (mm3)')\n",
    "ax[0,1].boxplot(final_tumor_list_ram)\n",
    "\n",
    "ax[1,0].set_title('Final Tumor Volume (mm3) for Infubinol')\n",
    "ax[1,0].set_ylabel('Final Tumor Volume (mm3)')\n",
    "ax[1,0].boxplot(final_tumor_list_inf)\n",
    "\n",
    "ax[1,1].set_title('Final Tumor Volume (mm3) for Ceftamin')\n",
    "ax[1,1].set_ylabel('Final Tumor Volume (mm3)')\n",
    "ax[1,1].boxplot(final_tumor_list_cef)\n",
    "\n",
    "fig.subplots_adjust(left=0.1, right=2., bottom=0.1, top=2,\n",
    "                    hspace=0.4, wspace=0.3)\n",
    "plt.show()\n",
    "\n",
    "\n",
    "    "
   ]
  },
  {
   "cell_type": "code",
   "execution_count": null,
   "metadata": {},
   "outputs": [],
   "source": [
    "# Generate a line plot of tumor volume vs. time point for a mouse treated with Capomulin\n",
    "\n",
    "cap_results_df = cleaned_results_df.loc[((cleaned_results_df[\"Drug Regimen\"] == \"Capomulin\") & (cleaned_results_df[\"Mouse ID\"] == \"s185\")),:]\n",
    "cap_results_df.reset_index()\n",
    "timepoint = np.arange(0,50,5)\n",
    "# timepoint\n",
    "tumor_vol = np.array(cap_results_df[\"Tumor Volume (mm3)\"])\n",
    "# # tumor_vol\n",
    "danger_drop = plt.plot(timepoint, tumor_vol, color=\"red\", label=\"Tumor Volume (mm3)\")\n",
    "plt.xlabel(\"Tumor Volume (mm3)\")\n",
    "plt.ylabel(\"Timpoint\")\n",
    "plt.title(\"Line plot of Tumor volume vsTimepoint for a mouse treated with Capomulin\")\n",
    "plt.show()\n",
    "\n"
   ]
  },
  {
   "cell_type": "code",
   "execution_count": null,
   "metadata": {},
   "outputs": [],
   "source": [
    "# Generate a scatter plot of average tumor volume vs. mouse weight for the Capomulin regimen\n",
    "cap_results_df = cleaned_results_df.loc[(cleaned_results_df[\"Drug Regimen\"] == \"Capomulin\"),:]\n",
    "grouped_cap_results_df = cap_results_df[[\"Mouse ID\",\"Tumor Volume (mm3)\",\"Weight (g)\"]].groupby(cap_results_df[\"Mouse ID\"]).mean()\n",
    "# grouped_cap_results_df\n",
    "\n",
    "plt.scatter(grouped_cap_results_df[\"Tumor Volume (mm3)\"], grouped_cap_results_df[\"Weight (g)\"], marker=\"o\", facecolors=\"red\", edgecolors=\"black\",\n",
    "            s=grouped_cap_results_df[\"Tumor Volume (mm3)\"], alpha=.75)\n",
    "plt.xlabel(\"Tumor Volume (mm3)\")\n",
    "plt.ylabel(\"Weight (g)\")\n",
    "plt.title(\"Average Tumor volume vs. Mouse weight for the Capomulin regimen\")\n",
    "plt.show()\n"
   ]
  },
  {
   "cell_type": "markdown",
   "metadata": {},
   "source": [
    "## Correlation and Regression"
   ]
  },
  {
   "cell_type": "code",
   "execution_count": null,
   "metadata": {
    "scrolled": false
   },
   "outputs": [],
   "source": [
    "# Calculate the correlation coefficient and linear regression model \n",
    "# for mouse weight and average tumor volume for the Capomulin regimen\n",
    "plt.scatter(cap_results_df.iloc[:,4],cap_results_df.iloc[:,6])\n",
    "plt.xlabel(\"Weight (g)\")\n",
    "plt.ylabel(\"Tumor Volume (mm3)\")\n",
    "plt.show()"
   ]
  },
  {
   "cell_type": "code",
   "execution_count": null,
   "metadata": {},
   "outputs": [],
   "source": [
    "x_values = cap_results_df[\"Weight (g)\"]\n",
    "y_values = cap_results_df[\"Tumor Volume (mm3)\"]\n",
    "(slope, intercept, rvalue, pvalue, stderr) = linregress(x_values, y_values)\n",
    "regress_values = x_values * slope + intercept\n",
    "line_eq = \"y = \" + str(round(slope,2)) + \"x + \" + str(round(intercept,2))\n",
    "plt.scatter(x_values,y_values)\n",
    "plt.plot(x_values,regress_values,\"r-\")\n",
    "plt.annotate(line_eq,(5.8,0.8),fontsize=15,color=\"red\")\n",
    "plt.xlabel('Weight (g)')\n",
    "plt.ylabel('Tumor Volume (mm3)')\n",
    "plt.show()"
   ]
  },
  {
   "cell_type": "code",
   "execution_count": null,
   "metadata": {},
   "outputs": [],
   "source": []
  },
  {
   "cell_type": "code",
   "execution_count": null,
   "metadata": {},
   "outputs": [],
   "source": []
  },
  {
   "cell_type": "code",
   "execution_count": null,
   "metadata": {},
   "outputs": [],
   "source": []
  }
 ],
 "metadata": {
  "anaconda-cloud": {},
  "kernelspec": {
   "display_name": "Python 3 (ipykernel)",
   "language": "python",
   "name": "python3"
  },
  "language_info": {
   "codemirror_mode": {
    "name": "ipython",
    "version": 3
   },
   "file_extension": ".py",
   "mimetype": "text/x-python",
   "name": "python",
   "nbconvert_exporter": "python",
   "pygments_lexer": "ipython3",
   "version": "3.9.7"
  }
 },
 "nbformat": 4,
 "nbformat_minor": 4
}
